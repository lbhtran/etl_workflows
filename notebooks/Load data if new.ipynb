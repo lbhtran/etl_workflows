{
 "cells": [
  {
   "cell_type": "code",
   "execution_count": 1,
   "metadata": {},
   "outputs": [],
   "source": [
    "%load_ext autoreload"
   ]
  },
  {
   "cell_type": "code",
   "execution_count": 2,
   "metadata": {},
   "outputs": [],
   "source": [
    "import os\n",
    "import sys\n",
    "module_path = os.path.abspath(os.path.join('..'))\n",
    "if module_path not in sys.path:\n",
    "    sys.path.append(module_path)"
   ]
  },
  {
   "cell_type": "code",
   "execution_count": 3,
   "metadata": {},
   "outputs": [],
   "source": [
    "%autoreload\n",
    "from definitions import ROOT_DIR, DATA_DIR\n",
    "from nyt_api.books_request import get_books, get_list_names"
   ]
  },
  {
   "cell_type": "code",
   "execution_count": 4,
   "metadata": {},
   "outputs": [],
   "source": [
    "import pandas as pd"
   ]
  },
  {
   "cell_type": "code",
   "execution_count": 5,
   "metadata": {},
   "outputs": [],
   "source": [
    "list_names = get_list_names()"
   ]
  },
  {
   "cell_type": "code",
   "execution_count": 6,
   "metadata": {},
   "outputs": [
    {
     "data": {
      "text/plain": [
       "{'list_name': 'Combined Print and E-Book Fiction',\n",
       " 'display_name': 'Combined Print & E-Book Fiction',\n",
       " 'list_name_encoded': 'combined-print-and-e-book-fiction',\n",
       " 'oldest_published_date': '2011-02-13',\n",
       " 'newest_published_date': '2021-05-09',\n",
       " 'updated': 'WEEKLY'}"
      ]
     },
     "execution_count": 6,
     "metadata": {},
     "output_type": "execute_result"
    }
   ],
   "source": [
    "list_names['results'][0]"
   ]
  },
  {
   "cell_type": "code",
   "execution_count": 7,
   "metadata": {},
   "outputs": [],
   "source": [
    "list_types = [list_name['list_name_encoded'] for list_name in list_names['results']]"
   ]
  },
  {
   "cell_type": "code",
   "execution_count": 8,
   "metadata": {},
   "outputs": [],
   "source": [
    "cols = ['title', 'author','publisher', 'description', 'primary_isbn13', 'primary_isbn10']"
   ]
  },
  {
   "cell_type": "code",
   "execution_count": 9,
   "metadata": {},
   "outputs": [],
   "source": [
    "all_dfs = []\n",
    "for list_type in list_types[:9]:\n",
    "    book_json = get_books(list_type)\n",
    "    book_details = [book['book_details'][0] for book in book_json['results']]\n",
    "    df_temp = pd.DataFrame(book_details)\n",
    "    df_temp = df_temp[cols]\n",
    "    all_dfs.append(df_temp)\n",
    "    \n",
    "df = pd.concat(all_dfs)"
   ]
  },
  {
   "cell_type": "code",
   "execution_count": 10,
   "metadata": {},
   "outputs": [],
   "source": [
    "df = df.drop_duplicates()"
   ]
  },
  {
   "cell_type": "code",
   "execution_count": 11,
   "metadata": {},
   "outputs": [
    {
     "data": {
      "text/html": [
       "<div>\n",
       "<style scoped>\n",
       "    .dataframe tbody tr th:only-of-type {\n",
       "        vertical-align: middle;\n",
       "    }\n",
       "\n",
       "    .dataframe tbody tr th {\n",
       "        vertical-align: top;\n",
       "    }\n",
       "\n",
       "    .dataframe thead th {\n",
       "        text-align: right;\n",
       "    }\n",
       "</style>\n",
       "<table border=\"1\" class=\"dataframe\">\n",
       "  <thead>\n",
       "    <tr style=\"text-align: right;\">\n",
       "      <th></th>\n",
       "      <th>title</th>\n",
       "      <th>author</th>\n",
       "      <th>publisher</th>\n",
       "      <th>description</th>\n",
       "      <th>primary_isbn13</th>\n",
       "      <th>primary_isbn10</th>\n",
       "    </tr>\n",
       "  </thead>\n",
       "  <tbody>\n",
       "    <tr>\n",
       "      <th>0</th>\n",
       "      <td>A GAMBLING MAN</td>\n",
       "      <td>David Baldacci</td>\n",
       "      <td>Grand Central</td>\n",
       "      <td>Aloysius Archer, a World War II veteran, seeks...</td>\n",
       "      <td>9781538719664</td>\n",
       "      <td>None</td>\n",
       "    </tr>\n",
       "    <tr>\n",
       "      <th>1</th>\n",
       "      <td>OCEAN PREY</td>\n",
       "      <td>John Sandford</td>\n",
       "      <td>Putnam</td>\n",
       "      <td>The 31st book in the Prey series. When federal...</td>\n",
       "      <td>9780593087022</td>\n",
       "      <td>None</td>\n",
       "    </tr>\n",
       "    <tr>\n",
       "      <th>2</th>\n",
       "      <td>THE HILL WE CLIMB</td>\n",
       "      <td>Amanda Gorman</td>\n",
       "      <td>Viking</td>\n",
       "      <td>The poem read on President Joe Biden's Inaugur...</td>\n",
       "      <td>9780593465271</td>\n",
       "      <td>059346527X</td>\n",
       "    </tr>\n",
       "    <tr>\n",
       "      <th>3</th>\n",
       "      <td>THE FOUR WINDS</td>\n",
       "      <td>Kristin Hannah</td>\n",
       "      <td>St. Martin's</td>\n",
       "      <td>As dust storms roll during the Great Depressio...</td>\n",
       "      <td>9781250178602</td>\n",
       "      <td>1250178606</td>\n",
       "    </tr>\n",
       "    <tr>\n",
       "      <th>4</th>\n",
       "      <td>WHERE THE CRAWDADS SING</td>\n",
       "      <td>Delia Owens</td>\n",
       "      <td>Putnam</td>\n",
       "      <td>In a quiet town on the North Carolina coast in...</td>\n",
       "      <td>9780735219106</td>\n",
       "      <td>0735219109</td>\n",
       "    </tr>\n",
       "  </tbody>\n",
       "</table>\n",
       "</div>"
      ],
      "text/plain": [
       "                     title          author      publisher  \\\n",
       "0           A GAMBLING MAN  David Baldacci  Grand Central   \n",
       "1               OCEAN PREY   John Sandford         Putnam   \n",
       "2        THE HILL WE CLIMB   Amanda Gorman         Viking   \n",
       "3           THE FOUR WINDS  Kristin Hannah   St. Martin's   \n",
       "4  WHERE THE CRAWDADS SING     Delia Owens         Putnam   \n",
       "\n",
       "                                         description primary_isbn13  \\\n",
       "0  Aloysius Archer, a World War II veteran, seeks...  9781538719664   \n",
       "1  The 31st book in the Prey series. When federal...  9780593087022   \n",
       "2  The poem read on President Joe Biden's Inaugur...  9780593465271   \n",
       "3  As dust storms roll during the Great Depressio...  9781250178602   \n",
       "4  In a quiet town on the North Carolina coast in...  9780735219106   \n",
       "\n",
       "  primary_isbn10  \n",
       "0           None  \n",
       "1           None  \n",
       "2     059346527X  \n",
       "3     1250178606  \n",
       "4     0735219109  "
      ]
     },
     "execution_count": 11,
     "metadata": {},
     "output_type": "execute_result"
    }
   ],
   "source": [
    "df.head()"
   ]
  },
  {
   "cell_type": "code",
   "execution_count": 12,
   "metadata": {},
   "outputs": [],
   "source": [
    "from sqlalchemy import create_engine"
   ]
  },
  {
   "cell_type": "code",
   "execution_count": 13,
   "metadata": {},
   "outputs": [],
   "source": [
    "host='192.168.0.109'\n",
    "user='alex'\n",
    "password='madison'\n",
    "db='NYTBooks'"
   ]
  },
  {
   "cell_type": "code",
   "execution_count": 14,
   "metadata": {},
   "outputs": [],
   "source": [
    "engine = create_engine(f\"mysql+pymysql://{user}:{password}@{host}/{db}\")"
   ]
  },
  {
   "cell_type": "code",
   "execution_count": 15,
   "metadata": {},
   "outputs": [],
   "source": [
    "df_books = pd.read_sql_table('book_details_dim', con=engine, columns=cols)"
   ]
  },
  {
   "cell_type": "code",
   "execution_count": 16,
   "metadata": {},
   "outputs": [
    {
     "data": {
      "text/plain": [
       "(0, 6)"
      ]
     },
     "execution_count": 16,
     "metadata": {},
     "output_type": "execute_result"
    }
   ],
   "source": [
    "df_books.shape"
   ]
  },
  {
   "cell_type": "code",
   "execution_count": 17,
   "metadata": {},
   "outputs": [],
   "source": [
    "df_load = pd.concat([df, df_books]).drop_duplicates(keep=False)"
   ]
  },
  {
   "cell_type": "code",
   "execution_count": 18,
   "metadata": {},
   "outputs": [
    {
     "data": {
      "text/html": [
       "<div>\n",
       "<style scoped>\n",
       "    .dataframe tbody tr th:only-of-type {\n",
       "        vertical-align: middle;\n",
       "    }\n",
       "\n",
       "    .dataframe tbody tr th {\n",
       "        vertical-align: top;\n",
       "    }\n",
       "\n",
       "    .dataframe thead th {\n",
       "        text-align: right;\n",
       "    }\n",
       "</style>\n",
       "<table border=\"1\" class=\"dataframe\">\n",
       "  <thead>\n",
       "    <tr style=\"text-align: right;\">\n",
       "      <th></th>\n",
       "      <th>title</th>\n",
       "      <th>author</th>\n",
       "      <th>publisher</th>\n",
       "      <th>description</th>\n",
       "      <th>primary_isbn13</th>\n",
       "      <th>primary_isbn10</th>\n",
       "    </tr>\n",
       "  </thead>\n",
       "  <tbody>\n",
       "    <tr>\n",
       "      <th>0</th>\n",
       "      <td>A GAMBLING MAN</td>\n",
       "      <td>David Baldacci</td>\n",
       "      <td>Grand Central</td>\n",
       "      <td>Aloysius Archer, a World War II veteran, seeks...</td>\n",
       "      <td>9781538719664</td>\n",
       "      <td>None</td>\n",
       "    </tr>\n",
       "    <tr>\n",
       "      <th>1</th>\n",
       "      <td>OCEAN PREY</td>\n",
       "      <td>John Sandford</td>\n",
       "      <td>Putnam</td>\n",
       "      <td>The 31st book in the Prey series. When federal...</td>\n",
       "      <td>9780593087022</td>\n",
       "      <td>None</td>\n",
       "    </tr>\n",
       "    <tr>\n",
       "      <th>2</th>\n",
       "      <td>THE HILL WE CLIMB</td>\n",
       "      <td>Amanda Gorman</td>\n",
       "      <td>Viking</td>\n",
       "      <td>The poem read on President Joe Biden's Inaugur...</td>\n",
       "      <td>9780593465271</td>\n",
       "      <td>059346527X</td>\n",
       "    </tr>\n",
       "    <tr>\n",
       "      <th>3</th>\n",
       "      <td>THE FOUR WINDS</td>\n",
       "      <td>Kristin Hannah</td>\n",
       "      <td>St. Martin's</td>\n",
       "      <td>As dust storms roll during the Great Depressio...</td>\n",
       "      <td>9781250178602</td>\n",
       "      <td>1250178606</td>\n",
       "    </tr>\n",
       "    <tr>\n",
       "      <th>4</th>\n",
       "      <td>WHERE THE CRAWDADS SING</td>\n",
       "      <td>Delia Owens</td>\n",
       "      <td>Putnam</td>\n",
       "      <td>In a quiet town on the North Carolina coast in...</td>\n",
       "      <td>9780735219106</td>\n",
       "      <td>0735219109</td>\n",
       "    </tr>\n",
       "  </tbody>\n",
       "</table>\n",
       "</div>"
      ],
      "text/plain": [
       "                     title          author      publisher  \\\n",
       "0           A GAMBLING MAN  David Baldacci  Grand Central   \n",
       "1               OCEAN PREY   John Sandford         Putnam   \n",
       "2        THE HILL WE CLIMB   Amanda Gorman         Viking   \n",
       "3           THE FOUR WINDS  Kristin Hannah   St. Martin's   \n",
       "4  WHERE THE CRAWDADS SING     Delia Owens         Putnam   \n",
       "\n",
       "                                         description primary_isbn13  \\\n",
       "0  Aloysius Archer, a World War II veteran, seeks...  9781538719664   \n",
       "1  The 31st book in the Prey series. When federal...  9780593087022   \n",
       "2  The poem read on President Joe Biden's Inaugur...  9780593465271   \n",
       "3  As dust storms roll during the Great Depressio...  9781250178602   \n",
       "4  In a quiet town on the North Carolina coast in...  9780735219106   \n",
       "\n",
       "  primary_isbn10  \n",
       "0           None  \n",
       "1           None  \n",
       "2     059346527X  \n",
       "3     1250178606  \n",
       "4     0735219109  "
      ]
     },
     "execution_count": 18,
     "metadata": {},
     "output_type": "execute_result"
    }
   ],
   "source": [
    "df_load.head()"
   ]
  },
  {
   "cell_type": "code",
   "execution_count": 19,
   "metadata": {},
   "outputs": [
    {
     "data": {
      "text/plain": [
       "(109, 6)"
      ]
     },
     "execution_count": 19,
     "metadata": {},
     "output_type": "execute_result"
    }
   ],
   "source": [
    "df_load.shape"
   ]
  },
  {
   "cell_type": "code",
   "execution_count": 20,
   "metadata": {},
   "outputs": [],
   "source": [
    "df_load.to_sql('book_details_dim', engine, index=False, if_exists='append')"
   ]
  },
  {
   "cell_type": "code",
   "execution_count": 21,
   "metadata": {},
   "outputs": [],
   "source": [
    "df_booksr = pd.read_sql_table('book_details_dim', con=engine, columns=cols)"
   ]
  },
  {
   "cell_type": "code",
   "execution_count": 22,
   "metadata": {},
   "outputs": [
    {
     "data": {
      "text/html": [
       "<div>\n",
       "<style scoped>\n",
       "    .dataframe tbody tr th:only-of-type {\n",
       "        vertical-align: middle;\n",
       "    }\n",
       "\n",
       "    .dataframe tbody tr th {\n",
       "        vertical-align: top;\n",
       "    }\n",
       "\n",
       "    .dataframe thead th {\n",
       "        text-align: right;\n",
       "    }\n",
       "</style>\n",
       "<table border=\"1\" class=\"dataframe\">\n",
       "  <thead>\n",
       "    <tr style=\"text-align: right;\">\n",
       "      <th></th>\n",
       "      <th>title</th>\n",
       "      <th>author</th>\n",
       "      <th>publisher</th>\n",
       "      <th>description</th>\n",
       "      <th>primary_isbn13</th>\n",
       "      <th>primary_isbn10</th>\n",
       "    </tr>\n",
       "  </thead>\n",
       "  <tbody>\n",
       "    <tr>\n",
       "      <th>0</th>\n",
       "      <td>A GAMBLING MAN</td>\n",
       "      <td>David Baldacci</td>\n",
       "      <td>Grand Central</td>\n",
       "      <td>Aloysius Archer, a World War II veteran, seeks...</td>\n",
       "      <td>9781538719664</td>\n",
       "      <td>None</td>\n",
       "    </tr>\n",
       "    <tr>\n",
       "      <th>1</th>\n",
       "      <td>OCEAN PREY</td>\n",
       "      <td>John Sandford</td>\n",
       "      <td>Putnam</td>\n",
       "      <td>The 31st book in the Prey series. When federal...</td>\n",
       "      <td>9780593087022</td>\n",
       "      <td>None</td>\n",
       "    </tr>\n",
       "    <tr>\n",
       "      <th>2</th>\n",
       "      <td>THE HILL WE CLIMB</td>\n",
       "      <td>Amanda Gorman</td>\n",
       "      <td>Viking</td>\n",
       "      <td>The poem read on President Joe Biden's Inaugur...</td>\n",
       "      <td>9780593465271</td>\n",
       "      <td>059346527X</td>\n",
       "    </tr>\n",
       "    <tr>\n",
       "      <th>3</th>\n",
       "      <td>THE FOUR WINDS</td>\n",
       "      <td>Kristin Hannah</td>\n",
       "      <td>St. Martin's</td>\n",
       "      <td>As dust storms roll during the Great Depressio...</td>\n",
       "      <td>9781250178602</td>\n",
       "      <td>1250178606</td>\n",
       "    </tr>\n",
       "    <tr>\n",
       "      <th>4</th>\n",
       "      <td>WHERE THE CRAWDADS SING</td>\n",
       "      <td>Delia Owens</td>\n",
       "      <td>Putnam</td>\n",
       "      <td>In a quiet town on the North Carolina coast in...</td>\n",
       "      <td>9780735219106</td>\n",
       "      <td>0735219109</td>\n",
       "    </tr>\n",
       "  </tbody>\n",
       "</table>\n",
       "</div>"
      ],
      "text/plain": [
       "                     title          author      publisher  \\\n",
       "0           A GAMBLING MAN  David Baldacci  Grand Central   \n",
       "1               OCEAN PREY   John Sandford         Putnam   \n",
       "2        THE HILL WE CLIMB   Amanda Gorman         Viking   \n",
       "3           THE FOUR WINDS  Kristin Hannah   St. Martin's   \n",
       "4  WHERE THE CRAWDADS SING     Delia Owens         Putnam   \n",
       "\n",
       "                                         description primary_isbn13  \\\n",
       "0  Aloysius Archer, a World War II veteran, seeks...  9781538719664   \n",
       "1  The 31st book in the Prey series. When federal...  9780593087022   \n",
       "2  The poem read on President Joe Biden's Inaugur...  9780593465271   \n",
       "3  As dust storms roll during the Great Depressio...  9781250178602   \n",
       "4  In a quiet town on the North Carolina coast in...  9780735219106   \n",
       "\n",
       "  primary_isbn10  \n",
       "0           None  \n",
       "1           None  \n",
       "2     059346527X  \n",
       "3     1250178606  \n",
       "4     0735219109  "
      ]
     },
     "execution_count": 22,
     "metadata": {},
     "output_type": "execute_result"
    }
   ],
   "source": [
    "df_booksr.head()"
   ]
  },
  {
   "cell_type": "code",
   "execution_count": 23,
   "metadata": {},
   "outputs": [
    {
     "data": {
      "text/plain": [
       "(109, 6)"
      ]
     },
     "execution_count": 23,
     "metadata": {},
     "output_type": "execute_result"
    }
   ],
   "source": [
    "df_booksr.shape"
   ]
  },
  {
   "cell_type": "code",
   "execution_count": null,
   "metadata": {},
   "outputs": [],
   "source": []
  }
 ],
 "metadata": {
  "kernelspec": {
   "display_name": "Python 3",
   "language": "python",
   "name": "python3"
  },
  "language_info": {
   "codemirror_mode": {
    "name": "ipython",
    "version": 3
   },
   "file_extension": ".py",
   "mimetype": "text/x-python",
   "name": "python",
   "nbconvert_exporter": "python",
   "pygments_lexer": "ipython3",
   "version": "3.7.6"
  }
 },
 "nbformat": 4,
 "nbformat_minor": 5
}
