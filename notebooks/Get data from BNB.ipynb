{
 "cells": [
  {
   "cell_type": "code",
   "execution_count": 1,
   "id": "dbcacf2c-9aa4-41f8-b1eb-4ee186f8e57f",
   "metadata": {},
   "outputs": [],
   "source": [
    "%load_ext autoreload"
   ]
  },
  {
   "cell_type": "code",
   "execution_count": 2,
   "id": "3f71ac31-8537-49c0-a9ce-85076e67cee9",
   "metadata": {},
   "outputs": [],
   "source": [
    "import os\n",
    "import sys\n",
    "module_path = os.path.abspath(os.path.join('..'))\n",
    "if module_path not in sys.path:\n",
    "    sys.path.append(module_path)"
   ]
  },
  {
   "cell_type": "code",
   "execution_count": 3,
   "id": "10277a91-a4fa-4768-955f-53c0a94ee493",
   "metadata": {},
   "outputs": [],
   "source": [
    "%autoreload\n",
    "from definitions import ROOT_DIR, DATA_DIR\n",
    "from nyt_api.books_request import get_books"
   ]
  },
  {
   "cell_type": "code",
   "execution_count": 26,
   "id": "c4363564-cbf0-43ad-9bf4-fbfb844d1007",
   "metadata": {},
   "outputs": [],
   "source": [
    "import pandas as pd\n",
    "import pymysql"
   ]
  },
  {
   "cell_type": "code",
   "execution_count": 4,
   "id": "af681899-9c3e-4ca5-8634-e405303a2f1c",
   "metadata": {},
   "outputs": [],
   "source": [
    "book_json = get_books('hardcover-fiction')"
   ]
  },
  {
   "cell_type": "code",
   "execution_count": 19,
   "id": "ceb1fcf3-fc2d-4add-af68-8993c66275d8",
   "metadata": {},
   "outputs": [],
   "source": [
    "book_details = [book['book_details'][0] for book in book_json['results']]"
   ]
  },
  {
   "cell_type": "code",
   "execution_count": 22,
   "id": "048342c3-ef30-4e9b-9d75-9e36670f97e6",
   "metadata": {},
   "outputs": [
    {
     "data": {
      "text/plain": [
       "{'title': 'A GAMBLING MAN',\n",
       " 'description': 'Aloysius Archer, a World War II veteran, seeks to apprentice with Willie Dash, a private eye, in a corrupt California town.',\n",
       " 'contributor': 'by David Baldacci',\n",
       " 'author': 'David Baldacci',\n",
       " 'contributor_note': '',\n",
       " 'price': '0.00',\n",
       " 'age_group': '',\n",
       " 'publisher': 'Grand Central',\n",
       " 'primary_isbn13': '9781538719671',\n",
       " 'primary_isbn10': '1538719673'}"
      ]
     },
     "execution_count": 22,
     "metadata": {},
     "output_type": "execute_result"
    }
   ],
   "source": [
    "book_details[0]"
   ]
  },
  {
   "cell_type": "code",
   "execution_count": 23,
   "id": "41063187-c7ce-4fd2-b545-e86c8f5a5967",
   "metadata": {},
   "outputs": [],
   "source": [
    "df = pd.DataFrame(book_details)"
   ]
  },
  {
   "cell_type": "code",
   "execution_count": 24,
   "id": "fc25139d-dd7b-40f4-93a0-a2e302d69b46",
   "metadata": {},
   "outputs": [
    {
     "data": {
      "text/html": [
       "<div>\n",
       "<style scoped>\n",
       "    .dataframe tbody tr th:only-of-type {\n",
       "        vertical-align: middle;\n",
       "    }\n",
       "\n",
       "    .dataframe tbody tr th {\n",
       "        vertical-align: top;\n",
       "    }\n",
       "\n",
       "    .dataframe thead th {\n",
       "        text-align: right;\n",
       "    }\n",
       "</style>\n",
       "<table border=\"1\" class=\"dataframe\">\n",
       "  <thead>\n",
       "    <tr style=\"text-align: right;\">\n",
       "      <th></th>\n",
       "      <th>title</th>\n",
       "      <th>description</th>\n",
       "      <th>contributor</th>\n",
       "      <th>author</th>\n",
       "      <th>contributor_note</th>\n",
       "      <th>price</th>\n",
       "      <th>age_group</th>\n",
       "      <th>publisher</th>\n",
       "      <th>primary_isbn13</th>\n",
       "      <th>primary_isbn10</th>\n",
       "    </tr>\n",
       "  </thead>\n",
       "  <tbody>\n",
       "    <tr>\n",
       "      <th>0</th>\n",
       "      <td>A GAMBLING MAN</td>\n",
       "      <td>Aloysius Archer, a World War II veteran, seeks...</td>\n",
       "      <td>by David Baldacci</td>\n",
       "      <td>David Baldacci</td>\n",
       "      <td></td>\n",
       "      <td>0.00</td>\n",
       "      <td></td>\n",
       "      <td>Grand Central</td>\n",
       "      <td>9781538719671</td>\n",
       "      <td>1538719673</td>\n",
       "    </tr>\n",
       "    <tr>\n",
       "      <th>1</th>\n",
       "      <td>THE HILL WE CLIMB</td>\n",
       "      <td>The poem read on President Joe Biden's Inaugur...</td>\n",
       "      <td>by Amanda Gorman</td>\n",
       "      <td>Amanda Gorman</td>\n",
       "      <td></td>\n",
       "      <td>0.00</td>\n",
       "      <td></td>\n",
       "      <td>Viking</td>\n",
       "      <td>9780593465271</td>\n",
       "      <td>059346527X</td>\n",
       "    </tr>\n",
       "    <tr>\n",
       "      <th>2</th>\n",
       "      <td>OCEAN PREY</td>\n",
       "      <td>The 31st book in the Prey series. When federal...</td>\n",
       "      <td>by John Sandford</td>\n",
       "      <td>John Sandford</td>\n",
       "      <td></td>\n",
       "      <td>0.00</td>\n",
       "      <td></td>\n",
       "      <td>Putnam</td>\n",
       "      <td>9780593087022</td>\n",
       "      <td>None</td>\n",
       "    </tr>\n",
       "    <tr>\n",
       "      <th>3</th>\n",
       "      <td>THE FOUR WINDS</td>\n",
       "      <td>As dust storms roll during the Great Depressio...</td>\n",
       "      <td>by Kristin Hannah</td>\n",
       "      <td>Kristin Hannah</td>\n",
       "      <td></td>\n",
       "      <td>0.00</td>\n",
       "      <td></td>\n",
       "      <td>St. Martin's</td>\n",
       "      <td>9781250178602</td>\n",
       "      <td>1250178606</td>\n",
       "    </tr>\n",
       "    <tr>\n",
       "      <th>4</th>\n",
       "      <td>THE MIDNIGHT LIBRARY</td>\n",
       "      <td>Nora Seed finds a library beyond the edge of t...</td>\n",
       "      <td>by Matt Haig</td>\n",
       "      <td>Matt Haig</td>\n",
       "      <td></td>\n",
       "      <td>0.00</td>\n",
       "      <td></td>\n",
       "      <td>Viking</td>\n",
       "      <td>9780525559474</td>\n",
       "      <td>0525559477</td>\n",
       "    </tr>\n",
       "  </tbody>\n",
       "</table>\n",
       "</div>"
      ],
      "text/plain": [
       "                  title                                        description  \\\n",
       "0        A GAMBLING MAN  Aloysius Archer, a World War II veteran, seeks...   \n",
       "1     THE HILL WE CLIMB  The poem read on President Joe Biden's Inaugur...   \n",
       "2            OCEAN PREY  The 31st book in the Prey series. When federal...   \n",
       "3        THE FOUR WINDS  As dust storms roll during the Great Depressio...   \n",
       "4  THE MIDNIGHT LIBRARY  Nora Seed finds a library beyond the edge of t...   \n",
       "\n",
       "         contributor          author contributor_note price age_group  \\\n",
       "0  by David Baldacci  David Baldacci                   0.00             \n",
       "1   by Amanda Gorman   Amanda Gorman                   0.00             \n",
       "2   by John Sandford   John Sandford                   0.00             \n",
       "3  by Kristin Hannah  Kristin Hannah                   0.00             \n",
       "4       by Matt Haig       Matt Haig                   0.00             \n",
       "\n",
       "       publisher primary_isbn13 primary_isbn10  \n",
       "0  Grand Central  9781538719671     1538719673  \n",
       "1         Viking  9780593465271     059346527X  \n",
       "2         Putnam  9780593087022           None  \n",
       "3   St. Martin's  9781250178602     1250178606  \n",
       "4         Viking  9780525559474     0525559477  "
      ]
     },
     "execution_count": 24,
     "metadata": {},
     "output_type": "execute_result"
    }
   ],
   "source": [
    "df.head()"
   ]
  },
  {
   "cell_type": "code",
   "execution_count": 29,
   "id": "36c53ad4-a135-4418-b780-ece73176b55a",
   "metadata": {},
   "outputs": [],
   "source": [
    "df_load = df[['title', 'author','publisher', 'description', 'primary_isbn13', 'primary_isbn10']]"
   ]
  },
  {
   "cell_type": "code",
   "execution_count": 34,
   "id": "2eaf2aa8-f86f-45e9-bbd5-1ba6b2828e7b",
   "metadata": {},
   "outputs": [],
   "source": [
    "from sqlalchemy import create_engine"
   ]
  },
  {
   "cell_type": "code",
   "execution_count": 36,
   "id": "a01a60bc-1454-407b-902b-895a3f489eb9",
   "metadata": {},
   "outputs": [],
   "source": [
    "host='192.168.0.109'\n",
    "user='alex'\n",
    "password='madison'\n",
    "db='NYTBooks'"
   ]
  },
  {
   "cell_type": "code",
   "execution_count": 37,
   "id": "f6d294f8-b05c-4067-af1a-f45d42c50887",
   "metadata": {},
   "outputs": [],
   "source": [
    "engine = create_engine(f\"mysql+pymysql://{user}:{password}@{host}/{db}\")"
   ]
  },
  {
   "cell_type": "code",
   "execution_count": 40,
   "id": "0c612b55-cd8a-4813-93b0-857623a709a2",
   "metadata": {},
   "outputs": [],
   "source": [
    "df_load.to_sql('book_details_dim', engine, index=False, if_exists='append')"
   ]
  },
  {
   "cell_type": "code",
   "execution_count": 43,
   "id": "7a8009ed-8f86-4a90-82de-23285b891444",
   "metadata": {},
   "outputs": [
    {
     "data": {
      "text/plain": [
       "{'list_name': 'Hardcover Fiction',\n",
       " 'display_name': 'Hardcover Fiction',\n",
       " 'bestsellers_date': '2021-04-24',\n",
       " 'published_date': '2021-05-09',\n",
       " 'rank': 1,\n",
       " 'rank_last_week': 0,\n",
       " 'weeks_on_list': 1,\n",
       " 'asterisk': 0,\n",
       " 'dagger': 0,\n",
       " 'amazon_product_url': 'https://www.amazon.com/dp/1538719673?tag=NYTBSREV-20&tag=NYTBSREV-20',\n",
       " 'isbns': [{'isbn10': '1538719673', 'isbn13': '9781538719671'},\n",
       "  {'isbn10': '1538719649', 'isbn13': '9781538719640'}],\n",
       " 'book_details': [{'title': 'A GAMBLING MAN',\n",
       "   'description': 'Aloysius Archer, a World War II veteran, seeks to apprentice with Willie Dash, a private eye, in a corrupt California town.',\n",
       "   'contributor': 'by David Baldacci',\n",
       "   'author': 'David Baldacci',\n",
       "   'contributor_note': '',\n",
       "   'price': '0.00',\n",
       "   'age_group': '',\n",
       "   'publisher': 'Grand Central',\n",
       "   'primary_isbn13': '9781538719671',\n",
       "   'primary_isbn10': '1538719673'}],\n",
       " 'reviews': [{'book_review_link': '',\n",
       "   'first_chapter_link': '',\n",
       "   'sunday_review_link': '',\n",
       "   'article_chapter_link': ''}]}"
      ]
     },
     "execution_count": 43,
     "metadata": {},
     "output_type": "execute_result"
    }
   ],
   "source": [
    "book_json['results'][0]"
   ]
  },
  {
   "cell_type": "code",
   "execution_count": null,
   "id": "9ac62c66-e518-4290-81a2-d67d02da5b00",
   "metadata": {},
   "outputs": [],
   "source": []
  }
 ],
 "metadata": {
  "kernelspec": {
   "display_name": "Python 3",
   "language": "python",
   "name": "python3"
  },
  "language_info": {
   "codemirror_mode": {
    "name": "ipython",
    "version": 3
   },
   "file_extension": ".py",
   "mimetype": "text/x-python",
   "name": "python",
   "nbconvert_exporter": "python",
   "pygments_lexer": "ipython3",
   "version": "3.7.1"
  }
 },
 "nbformat": 4,
 "nbformat_minor": 5
}
