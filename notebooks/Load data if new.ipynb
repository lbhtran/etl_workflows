{
 "cells": [
  {
   "cell_type": "code",
   "execution_count": 1,
   "id": "dbcacf2c-9aa4-41f8-b1eb-4ee186f8e57f",
   "metadata": {},
   "outputs": [],
   "source": [
    "%load_ext autoreload"
   ]
  },
  {
   "cell_type": "code",
   "execution_count": 2,
   "id": "3f71ac31-8537-49c0-a9ce-85076e67cee9",
   "metadata": {},
   "outputs": [],
   "source": [
    "import os\n",
    "import sys\n",
    "module_path = os.path.abspath(os.path.join('..'))\n",
    "if module_path not in sys.path:\n",
    "    sys.path.append(module_path)"
   ]
  },
  {
   "cell_type": "code",
   "execution_count": 3,
   "id": "10277a91-a4fa-4768-955f-53c0a94ee493",
   "metadata": {},
   "outputs": [],
   "source": [
    "%autoreload\n",
    "from definitions import ROOT_DIR, DATA_DIR\n",
    "from nyt_api.books_request import get_books, get_list_names"
   ]
  },
  {
   "cell_type": "code",
   "execution_count": 4,
   "id": "c4363564-cbf0-43ad-9bf4-fbfb844d1007",
   "metadata": {},
   "outputs": [],
   "source": [
    "import pandas as pd"
   ]
  },
  {
   "cell_type": "code",
   "execution_count": 5,
   "id": "608fa531-5b00-4535-8220-af1ae0c7e9c0",
   "metadata": {},
   "outputs": [],
   "source": [
    "list_names = get_list_names()"
   ]
  },
  {
   "cell_type": "code",
   "execution_count": 6,
   "id": "938b1d1b-d8ab-4762-bb83-2b3b4e26e96a",
   "metadata": {},
   "outputs": [
    {
     "data": {
      "text/plain": [
       "{'list_name': 'Combined Print and E-Book Fiction',\n",
       " 'display_name': 'Combined Print & E-Book Fiction',\n",
       " 'list_name_encoded': 'combined-print-and-e-book-fiction',\n",
       " 'oldest_published_date': '2011-02-13',\n",
       " 'newest_published_date': '2021-05-09',\n",
       " 'updated': 'WEEKLY'}"
      ]
     },
     "execution_count": 6,
     "metadata": {},
     "output_type": "execute_result"
    }
   ],
   "source": [
    "list_names['results'][0]"
   ]
  },
  {
   "cell_type": "code",
   "execution_count": 7,
   "id": "274a3cea-a797-4320-9667-dcc16f12e1a7",
   "metadata": {},
   "outputs": [],
   "source": [
    "list_types = [list_name['list_name_encoded'] for list_name in list_names['results']]"
   ]
  },
  {
   "cell_type": "code",
   "execution_count": 8,
   "id": "bfbf4625-6e77-486f-84da-b226a2791c7f",
   "metadata": {},
   "outputs": [],
   "source": [
    "cols = ['title', 'author','publisher', 'description', 'primary_isbn13', 'primary_isbn10']"
   ]
  },
  {
   "cell_type": "code",
   "execution_count": 9,
   "id": "af681899-9c3e-4ca5-8634-e405303a2f1c",
   "metadata": {},
   "outputs": [],
   "source": [
    "all_dfs = []\n",
    "for list_type in list_types[:9]:\n",
    "    book_json = get_books(list_type)\n",
    "    book_details = [book['book_details'][0] for book in book_json['results']]\n",
    "    df_temp = pd.DataFrame(book_details)\n",
    "    df_temp = df_temp[cols]\n",
    "    all_dfs.append(df_temp)\n",
    "    \n",
    "df = pd.concat(all_dfs)"
   ]
  },
  {
   "cell_type": "code",
   "execution_count": 10,
   "id": "fc25139d-dd7b-40f4-93a0-a2e302d69b46",
   "metadata": {},
   "outputs": [],
   "source": [
    "df = df.drop_duplicates()"
   ]
  },
  {
   "cell_type": "code",
   "execution_count": 11,
   "id": "fb81eeb3-1f9e-4157-8a76-f522a4322886",
   "metadata": {},
   "outputs": [
    {
     "data": {
      "text/html": [
       "<div>\n",
       "<style scoped>\n",
       "    .dataframe tbody tr th:only-of-type {\n",
       "        vertical-align: middle;\n",
       "    }\n",
       "\n",
       "    .dataframe tbody tr th {\n",
       "        vertical-align: top;\n",
       "    }\n",
       "\n",
       "    .dataframe thead th {\n",
       "        text-align: right;\n",
       "    }\n",
       "</style>\n",
       "<table border=\"1\" class=\"dataframe\">\n",
       "  <thead>\n",
       "    <tr style=\"text-align: right;\">\n",
       "      <th></th>\n",
       "      <th>title</th>\n",
       "      <th>author</th>\n",
       "      <th>publisher</th>\n",
       "      <th>description</th>\n",
       "      <th>primary_isbn13</th>\n",
       "      <th>primary_isbn10</th>\n",
       "    </tr>\n",
       "  </thead>\n",
       "  <tbody>\n",
       "    <tr>\n",
       "      <th>0</th>\n",
       "      <td>A GAMBLING MAN</td>\n",
       "      <td>David Baldacci</td>\n",
       "      <td>Grand Central</td>\n",
       "      <td>Aloysius Archer, a World War II veteran, seeks...</td>\n",
       "      <td>9781538719664</td>\n",
       "      <td>None</td>\n",
       "    </tr>\n",
       "    <tr>\n",
       "      <th>1</th>\n",
       "      <td>OCEAN PREY</td>\n",
       "      <td>John Sandford</td>\n",
       "      <td>Putnam</td>\n",
       "      <td>The 31st book in the Prey series. When federal...</td>\n",
       "      <td>9780593087022</td>\n",
       "      <td>None</td>\n",
       "    </tr>\n",
       "    <tr>\n",
       "      <th>2</th>\n",
       "      <td>THE HILL WE CLIMB</td>\n",
       "      <td>Amanda Gorman</td>\n",
       "      <td>Viking</td>\n",
       "      <td>The poem read on President Joe Biden's Inaugur...</td>\n",
       "      <td>9780593465271</td>\n",
       "      <td>059346527X</td>\n",
       "    </tr>\n",
       "    <tr>\n",
       "      <th>3</th>\n",
       "      <td>THE FOUR WINDS</td>\n",
       "      <td>Kristin Hannah</td>\n",
       "      <td>St. Martin's</td>\n",
       "      <td>As dust storms roll during the Great Depressio...</td>\n",
       "      <td>9781250178602</td>\n",
       "      <td>1250178606</td>\n",
       "    </tr>\n",
       "    <tr>\n",
       "      <th>4</th>\n",
       "      <td>WHERE THE CRAWDADS SING</td>\n",
       "      <td>Delia Owens</td>\n",
       "      <td>Putnam</td>\n",
       "      <td>In a quiet town on the North Carolina coast in...</td>\n",
       "      <td>9780735219106</td>\n",
       "      <td>0735219109</td>\n",
       "    </tr>\n",
       "  </tbody>\n",
       "</table>\n",
       "</div>"
      ],
      "text/plain": [
       "                     title          author      publisher  \\\n",
       "0           A GAMBLING MAN  David Baldacci  Grand Central   \n",
       "1               OCEAN PREY   John Sandford         Putnam   \n",
       "2        THE HILL WE CLIMB   Amanda Gorman         Viking   \n",
       "3           THE FOUR WINDS  Kristin Hannah   St. Martin's   \n",
       "4  WHERE THE CRAWDADS SING     Delia Owens         Putnam   \n",
       "\n",
       "                                         description primary_isbn13  \\\n",
       "0  Aloysius Archer, a World War II veteran, seeks...  9781538719664   \n",
       "1  The 31st book in the Prey series. When federal...  9780593087022   \n",
       "2  The poem read on President Joe Biden's Inaugur...  9780593465271   \n",
       "3  As dust storms roll during the Great Depressio...  9781250178602   \n",
       "4  In a quiet town on the North Carolina coast in...  9780735219106   \n",
       "\n",
       "  primary_isbn10  \n",
       "0           None  \n",
       "1           None  \n",
       "2     059346527X  \n",
       "3     1250178606  \n",
       "4     0735219109  "
      ]
     },
     "execution_count": 11,
     "metadata": {},
     "output_type": "execute_result"
    }
   ],
   "source": [
    "df.head()"
   ]
  },
  {
   "cell_type": "code",
   "execution_count": 12,
   "id": "2eaf2aa8-f86f-45e9-bbd5-1ba6b2828e7b",
   "metadata": {},
   "outputs": [],
   "source": [
    "from sqlalchemy import create_engine"
   ]
  },
  {
   "cell_type": "code",
   "execution_count": 13,
   "id": "a01a60bc-1454-407b-902b-895a3f489eb9",
   "metadata": {},
   "outputs": [],
   "source": [
    "host='192.168.0.109'\n",
    "user='alex'\n",
    "password='madison'\n",
    "db='NYTBooks'"
   ]
  },
  {
   "cell_type": "code",
   "execution_count": 14,
   "id": "f6d294f8-b05c-4067-af1a-f45d42c50887",
   "metadata": {},
   "outputs": [],
   "source": [
    "engine = create_engine(f\"mysql+pymysql://{user}:{password}@{host}/{db}\")"
   ]
  },
  {
   "cell_type": "code",
   "execution_count": 15,
   "id": "144bc3ac-505e-4753-9270-b9c3549ec9d3",
   "metadata": {},
   "outputs": [],
   "source": [
    "df_books = pd.read_sql_table('book_details_dim', con=engine, columns=cols)"
   ]
  },
  {
   "cell_type": "code",
   "execution_count": 16,
   "id": "1c5f44e2-756a-4486-9ecc-52839f27043f",
   "metadata": {},
   "outputs": [
    {
     "data": {
      "text/plain": [
       "(0, 6)"
      ]
     },
     "execution_count": 16,
     "metadata": {},
     "output_type": "execute_result"
    }
   ],
   "source": [
    "df_books.shape"
   ]
  },
  {
   "cell_type": "code",
   "execution_count": 17,
   "id": "beef4e9f-5f81-43a0-aaf8-a20aed9c0ffd",
   "metadata": {},
   "outputs": [],
   "source": [
    "df_load = pd.concat([df, df_books]).drop_duplicates(keep=False)"
   ]
  },
  {
   "cell_type": "code",
   "execution_count": 18,
   "id": "d3296799-177d-44e9-9ade-16c41638c96a",
   "metadata": {},
   "outputs": [
    {
     "data": {
      "text/html": [
       "<div>\n",
       "<style scoped>\n",
       "    .dataframe tbody tr th:only-of-type {\n",
       "        vertical-align: middle;\n",
       "    }\n",
       "\n",
       "    .dataframe tbody tr th {\n",
       "        vertical-align: top;\n",
       "    }\n",
       "\n",
       "    .dataframe thead th {\n",
       "        text-align: right;\n",
       "    }\n",
       "</style>\n",
       "<table border=\"1\" class=\"dataframe\">\n",
       "  <thead>\n",
       "    <tr style=\"text-align: right;\">\n",
       "      <th></th>\n",
       "      <th>title</th>\n",
       "      <th>author</th>\n",
       "      <th>publisher</th>\n",
       "      <th>description</th>\n",
       "      <th>primary_isbn13</th>\n",
       "      <th>primary_isbn10</th>\n",
       "    </tr>\n",
       "  </thead>\n",
       "  <tbody>\n",
       "    <tr>\n",
       "      <th>0</th>\n",
       "      <td>A GAMBLING MAN</td>\n",
       "      <td>David Baldacci</td>\n",
       "      <td>Grand Central</td>\n",
       "      <td>Aloysius Archer, a World War II veteran, seeks...</td>\n",
       "      <td>9781538719664</td>\n",
       "      <td>None</td>\n",
       "    </tr>\n",
       "    <tr>\n",
       "      <th>1</th>\n",
       "      <td>OCEAN PREY</td>\n",
       "      <td>John Sandford</td>\n",
       "      <td>Putnam</td>\n",
       "      <td>The 31st book in the Prey series. When federal...</td>\n",
       "      <td>9780593087022</td>\n",
       "      <td>None</td>\n",
       "    </tr>\n",
       "    <tr>\n",
       "      <th>2</th>\n",
       "      <td>THE HILL WE CLIMB</td>\n",
       "      <td>Amanda Gorman</td>\n",
       "      <td>Viking</td>\n",
       "      <td>The poem read on President Joe Biden's Inaugur...</td>\n",
       "      <td>9780593465271</td>\n",
       "      <td>059346527X</td>\n",
       "    </tr>\n",
       "    <tr>\n",
       "      <th>3</th>\n",
       "      <td>THE FOUR WINDS</td>\n",
       "      <td>Kristin Hannah</td>\n",
       "      <td>St. Martin's</td>\n",
       "      <td>As dust storms roll during the Great Depressio...</td>\n",
       "      <td>9781250178602</td>\n",
       "      <td>1250178606</td>\n",
       "    </tr>\n",
       "    <tr>\n",
       "      <th>4</th>\n",
       "      <td>WHERE THE CRAWDADS SING</td>\n",
       "      <td>Delia Owens</td>\n",
       "      <td>Putnam</td>\n",
       "      <td>In a quiet town on the North Carolina coast in...</td>\n",
       "      <td>9780735219106</td>\n",
       "      <td>0735219109</td>\n",
       "    </tr>\n",
       "  </tbody>\n",
       "</table>\n",
       "</div>"
      ],
      "text/plain": [
       "                     title          author      publisher  \\\n",
       "0           A GAMBLING MAN  David Baldacci  Grand Central   \n",
       "1               OCEAN PREY   John Sandford         Putnam   \n",
       "2        THE HILL WE CLIMB   Amanda Gorman         Viking   \n",
       "3           THE FOUR WINDS  Kristin Hannah   St. Martin's   \n",
       "4  WHERE THE CRAWDADS SING     Delia Owens         Putnam   \n",
       "\n",
       "                                         description primary_isbn13  \\\n",
       "0  Aloysius Archer, a World War II veteran, seeks...  9781538719664   \n",
       "1  The 31st book in the Prey series. When federal...  9780593087022   \n",
       "2  The poem read on President Joe Biden's Inaugur...  9780593465271   \n",
       "3  As dust storms roll during the Great Depressio...  9781250178602   \n",
       "4  In a quiet town on the North Carolina coast in...  9780735219106   \n",
       "\n",
       "  primary_isbn10  \n",
       "0           None  \n",
       "1           None  \n",
       "2     059346527X  \n",
       "3     1250178606  \n",
       "4     0735219109  "
      ]
     },
     "execution_count": 18,
     "metadata": {},
     "output_type": "execute_result"
    }
   ],
   "source": [
    "df_load.head()"
   ]
  },
  {
   "cell_type": "code",
   "execution_count": 19,
   "id": "4dbb5322-557d-4a69-b4f5-0c4c7a3e69a0",
   "metadata": {},
   "outputs": [
    {
     "data": {
      "text/plain": [
       "(109, 6)"
      ]
     },
     "execution_count": 19,
     "metadata": {},
     "output_type": "execute_result"
    }
   ],
   "source": [
    "df_load.shape"
   ]
  },
  {
   "cell_type": "code",
   "execution_count": 20,
   "id": "0c612b55-cd8a-4813-93b0-857623a709a2",
   "metadata": {},
   "outputs": [],
   "source": [
    "df_load.to_sql('book_details_dim', engine, index=False, if_exists='append')"
   ]
  },
  {
   "cell_type": "code",
   "execution_count": 21,
   "id": "7a8009ed-8f86-4a90-82de-23285b891444",
   "metadata": {},
   "outputs": [],
   "source": [
    "df_booksr = pd.read_sql_table('book_details_dim', con=engine, columns=cols)"
   ]
  },
  {
   "cell_type": "code",
   "execution_count": 22,
   "id": "9ac62c66-e518-4290-81a2-d67d02da5b00",
   "metadata": {},
   "outputs": [
    {
     "data": {
      "text/html": [
       "<div>\n",
       "<style scoped>\n",
       "    .dataframe tbody tr th:only-of-type {\n",
       "        vertical-align: middle;\n",
       "    }\n",
       "\n",
       "    .dataframe tbody tr th {\n",
       "        vertical-align: top;\n",
       "    }\n",
       "\n",
       "    .dataframe thead th {\n",
       "        text-align: right;\n",
       "    }\n",
       "</style>\n",
       "<table border=\"1\" class=\"dataframe\">\n",
       "  <thead>\n",
       "    <tr style=\"text-align: right;\">\n",
       "      <th></th>\n",
       "      <th>title</th>\n",
       "      <th>author</th>\n",
       "      <th>publisher</th>\n",
       "      <th>description</th>\n",
       "      <th>primary_isbn13</th>\n",
       "      <th>primary_isbn10</th>\n",
       "    </tr>\n",
       "  </thead>\n",
       "  <tbody>\n",
       "    <tr>\n",
       "      <th>0</th>\n",
       "      <td>A GAMBLING MAN</td>\n",
       "      <td>David Baldacci</td>\n",
       "      <td>Grand Central</td>\n",
       "      <td>Aloysius Archer, a World War II veteran, seeks...</td>\n",
       "      <td>9781538719664</td>\n",
       "      <td>None</td>\n",
       "    </tr>\n",
       "    <tr>\n",
       "      <th>1</th>\n",
       "      <td>OCEAN PREY</td>\n",
       "      <td>John Sandford</td>\n",
       "      <td>Putnam</td>\n",
       "      <td>The 31st book in the Prey series. When federal...</td>\n",
       "      <td>9780593087022</td>\n",
       "      <td>None</td>\n",
       "    </tr>\n",
       "    <tr>\n",
       "      <th>2</th>\n",
       "      <td>THE HILL WE CLIMB</td>\n",
       "      <td>Amanda Gorman</td>\n",
       "      <td>Viking</td>\n",
       "      <td>The poem read on President Joe Biden's Inaugur...</td>\n",
       "      <td>9780593465271</td>\n",
       "      <td>059346527X</td>\n",
       "    </tr>\n",
       "    <tr>\n",
       "      <th>3</th>\n",
       "      <td>THE FOUR WINDS</td>\n",
       "      <td>Kristin Hannah</td>\n",
       "      <td>St. Martin's</td>\n",
       "      <td>As dust storms roll during the Great Depressio...</td>\n",
       "      <td>9781250178602</td>\n",
       "      <td>1250178606</td>\n",
       "    </tr>\n",
       "    <tr>\n",
       "      <th>4</th>\n",
       "      <td>WHERE THE CRAWDADS SING</td>\n",
       "      <td>Delia Owens</td>\n",
       "      <td>Putnam</td>\n",
       "      <td>In a quiet town on the North Carolina coast in...</td>\n",
       "      <td>9780735219106</td>\n",
       "      <td>0735219109</td>\n",
       "    </tr>\n",
       "  </tbody>\n",
       "</table>\n",
       "</div>"
      ],
      "text/plain": [
       "                     title          author      publisher  \\\n",
       "0           A GAMBLING MAN  David Baldacci  Grand Central   \n",
       "1               OCEAN PREY   John Sandford         Putnam   \n",
       "2        THE HILL WE CLIMB   Amanda Gorman         Viking   \n",
       "3           THE FOUR WINDS  Kristin Hannah   St. Martin's   \n",
       "4  WHERE THE CRAWDADS SING     Delia Owens         Putnam   \n",
       "\n",
       "                                         description primary_isbn13  \\\n",
       "0  Aloysius Archer, a World War II veteran, seeks...  9781538719664   \n",
       "1  The 31st book in the Prey series. When federal...  9780593087022   \n",
       "2  The poem read on President Joe Biden's Inaugur...  9780593465271   \n",
       "3  As dust storms roll during the Great Depressio...  9781250178602   \n",
       "4  In a quiet town on the North Carolina coast in...  9780735219106   \n",
       "\n",
       "  primary_isbn10  \n",
       "0           None  \n",
       "1           None  \n",
       "2     059346527X  \n",
       "3     1250178606  \n",
       "4     0735219109  "
      ]
     },
     "execution_count": 22,
     "metadata": {},
     "output_type": "execute_result"
    }
   ],
   "source": [
    "df_booksr.head()"
   ]
  },
  {
   "cell_type": "code",
   "execution_count": 23,
   "id": "1a29e9cd-2b67-49c2-a2b3-d566e22b8447",
   "metadata": {},
   "outputs": [
    {
     "data": {
      "text/plain": [
       "(109, 6)"
      ]
     },
     "execution_count": 23,
     "metadata": {},
     "output_type": "execute_result"
    }
   ],
   "source": [
    "df_booksr.shape"
   ]
  },
  {
   "cell_type": "code",
   "execution_count": null,
   "id": "7d382e1c-16f8-4c29-b410-f608853e3f2f",
   "metadata": {},
   "outputs": [],
   "source": []
  }
 ],
 "metadata": {
  "kernelspec": {
   "display_name": "Python 3",
   "language": "python",
   "name": "python3"
  },
  "language_info": {
   "codemirror_mode": {
    "name": "ipython",
    "version": 3
   },
   "file_extension": ".py",
   "mimetype": "text/x-python",
   "name": "python",
   "nbconvert_exporter": "python",
   "pygments_lexer": "ipython3",
   "version": "3.7.1"
  }
 },
 "nbformat": 4,
 "nbformat_minor": 5
}
